{
 "cells": [
  {
   "cell_type": "markdown",
   "metadata": {},
   "source": [
    "# VacationPy\n",
    "----\n",
    "\n",
    "#### Note\n",
    "* Instructions have been included for each segment. You do not have to follow them exactly, but they are included to help you think through the steps."
   ]
  },
  {
   "cell_type": "code",
   "execution_count": 1,
   "metadata": {},
   "outputs": [
    {
     "name": "stderr",
     "output_type": "stream",
     "text": [
      "Enabling notebook extension jupyter-gmaps/extension...\n",
      "      - Validating: ok\n"
     ]
    },
    {
     "name": "stdout",
     "output_type": "stream",
     "text": [
      "Known nbextensions:"
     ]
    },
    {
     "name": "stderr",
     "output_type": "stream",
     "text": [
      "      - Validating: ok\n",
      "      - Validating: ok\n"
     ]
    },
    {
     "name": "stdout",
     "output_type": "stream",
     "text": [
      "\n",
      "  config dir: C:\\Users\\gshre\\.jupyter\\nbconfig\n",
      "    notebook section\n",
      "      jupyter-gmaps/extension enabled \n",
      "  config dir: C:\\Users\\gshre\\Anaconda3\\etc\\jupyter\\nbconfig\n",
      "    notebook section\n",
      "      jupyter-js-widgets/extension enabled \n"
     ]
    }
   ],
   "source": [
    "#restart execution after running if needed\n",
    "!jupyter nbextension enable --py gmaps\n",
    "!jupyter nbextension list"
   ]
  },
  {
   "cell_type": "code",
   "execution_count": 17,
   "metadata": {},
   "outputs": [],
   "source": [
    "from city_lib import (Find_Ideal_Cities, Load_City_Data)\n",
    "from vacations_lib import Find_Motels_For_Cities\n",
    "from vacationplots_lib import heatmap_plot\n",
    "from api_keys import g_key\n",
    "from matplotlib.pyplot import plot, show\n",
    "import gmaps"
   ]
  },
  {
   "cell_type": "markdown",
   "metadata": {},
   "source": [
    "### Store Part I results into DataFrame\n",
    "* Load the csv exported in Part I to a DataFrame"
   ]
  },
  {
   "cell_type": "code",
   "execution_count": 18,
   "metadata": {},
   "outputs": [
    {
     "data": {
      "text/html": [
       "<div>\n",
       "<style scoped>\n",
       "    .dataframe tbody tr th:only-of-type {\n",
       "        vertical-align: middle;\n",
       "    }\n",
       "\n",
       "    .dataframe tbody tr th {\n",
       "        vertical-align: top;\n",
       "    }\n",
       "\n",
       "    .dataframe thead th {\n",
       "        text-align: right;\n",
       "    }\n",
       "</style>\n",
       "<table border=\"1\" class=\"dataframe\">\n",
       "  <thead>\n",
       "    <tr style=\"text-align: right;\">\n",
       "      <th></th>\n",
       "      <th>City_ID</th>\n",
       "      <th>City</th>\n",
       "      <th>Cloudiness</th>\n",
       "      <th>Country</th>\n",
       "      <th>Date</th>\n",
       "      <th>Humidity</th>\n",
       "      <th>Lat</th>\n",
       "      <th>Lng</th>\n",
       "      <th>Max Temp</th>\n",
       "      <th>Wind Speed</th>\n",
       "    </tr>\n",
       "  </thead>\n",
       "  <tbody>\n",
       "    <tr>\n",
       "      <th>0</th>\n",
       "      <td>0</td>\n",
       "      <td>abu samrah</td>\n",
       "      <td>13</td>\n",
       "      <td>SY</td>\n",
       "      <td>1587216309</td>\n",
       "      <td>24</td>\n",
       "      <td>35.30</td>\n",
       "      <td>37.18</td>\n",
       "      <td>78.26</td>\n",
       "      <td>1.28</td>\n",
       "    </tr>\n",
       "    <tr>\n",
       "      <th>1</th>\n",
       "      <td>1</td>\n",
       "      <td>abu zabad</td>\n",
       "      <td>47</td>\n",
       "      <td>SD</td>\n",
       "      <td>1587216309</td>\n",
       "      <td>7</td>\n",
       "      <td>12.35</td>\n",
       "      <td>29.25</td>\n",
       "      <td>98.83</td>\n",
       "      <td>6.49</td>\n",
       "    </tr>\n",
       "    <tr>\n",
       "      <th>2</th>\n",
       "      <td>2</td>\n",
       "      <td>acapulco</td>\n",
       "      <td>5</td>\n",
       "      <td>MX</td>\n",
       "      <td>1587215869</td>\n",
       "      <td>64</td>\n",
       "      <td>16.86</td>\n",
       "      <td>-99.89</td>\n",
       "      <td>75.20</td>\n",
       "      <td>2.24</td>\n",
       "    </tr>\n",
       "    <tr>\n",
       "      <th>3</th>\n",
       "      <td>3</td>\n",
       "      <td>acevedo</td>\n",
       "      <td>91</td>\n",
       "      <td>CO</td>\n",
       "      <td>1587216293</td>\n",
       "      <td>64</td>\n",
       "      <td>1.84</td>\n",
       "      <td>-75.86</td>\n",
       "      <td>64.71</td>\n",
       "      <td>2.15</td>\n",
       "    </tr>\n",
       "    <tr>\n",
       "      <th>4</th>\n",
       "      <td>4</td>\n",
       "      <td>agua branca</td>\n",
       "      <td>97</td>\n",
       "      <td>BR</td>\n",
       "      <td>1587216339</td>\n",
       "      <td>86</td>\n",
       "      <td>-5.89</td>\n",
       "      <td>-42.64</td>\n",
       "      <td>76.75</td>\n",
       "      <td>4.52</td>\n",
       "    </tr>\n",
       "    <tr>\n",
       "      <th>...</th>\n",
       "      <td>...</td>\n",
       "      <td>...</td>\n",
       "      <td>...</td>\n",
       "      <td>...</td>\n",
       "      <td>...</td>\n",
       "      <td>...</td>\n",
       "      <td>...</td>\n",
       "      <td>...</td>\n",
       "      <td>...</td>\n",
       "      <td>...</td>\n",
       "    </tr>\n",
       "    <tr>\n",
       "      <th>550</th>\n",
       "      <td>550</td>\n",
       "      <td>yerbogachen</td>\n",
       "      <td>7</td>\n",
       "      <td>RU</td>\n",
       "      <td>1587216166</td>\n",
       "      <td>87</td>\n",
       "      <td>61.28</td>\n",
       "      <td>108.01</td>\n",
       "      <td>18.16</td>\n",
       "      <td>7.23</td>\n",
       "    </tr>\n",
       "    <tr>\n",
       "      <th>551</th>\n",
       "      <td>551</td>\n",
       "      <td>yulara</td>\n",
       "      <td>7</td>\n",
       "      <td>AU</td>\n",
       "      <td>1587216181</td>\n",
       "      <td>29</td>\n",
       "      <td>-25.24</td>\n",
       "      <td>130.99</td>\n",
       "      <td>78.80</td>\n",
       "      <td>8.05</td>\n",
       "    </tr>\n",
       "    <tr>\n",
       "      <th>552</th>\n",
       "      <td>552</td>\n",
       "      <td>yumen</td>\n",
       "      <td>6</td>\n",
       "      <td>CN</td>\n",
       "      <td>1587216295</td>\n",
       "      <td>15</td>\n",
       "      <td>40.28</td>\n",
       "      <td>97.20</td>\n",
       "      <td>62.29</td>\n",
       "      <td>8.30</td>\n",
       "    </tr>\n",
       "    <tr>\n",
       "      <th>553</th>\n",
       "      <td>553</td>\n",
       "      <td>zhaotong</td>\n",
       "      <td>39</td>\n",
       "      <td>CN</td>\n",
       "      <td>1587216301</td>\n",
       "      <td>39</td>\n",
       "      <td>27.32</td>\n",
       "      <td>103.72</td>\n",
       "      <td>61.29</td>\n",
       "      <td>4.23</td>\n",
       "    </tr>\n",
       "    <tr>\n",
       "      <th>554</th>\n",
       "      <td>554</td>\n",
       "      <td>zhigansk</td>\n",
       "      <td>0</td>\n",
       "      <td>RU</td>\n",
       "      <td>1587215972</td>\n",
       "      <td>92</td>\n",
       "      <td>66.77</td>\n",
       "      <td>123.37</td>\n",
       "      <td>7.14</td>\n",
       "      <td>13.06</td>\n",
       "    </tr>\n",
       "  </tbody>\n",
       "</table>\n",
       "<p>555 rows × 10 columns</p>\n",
       "</div>"
      ],
      "text/plain": [
       "     City_ID         City  Cloudiness Country        Date  Humidity    Lat  \\\n",
       "0          0   abu samrah          13      SY  1587216309        24  35.30   \n",
       "1          1    abu zabad          47      SD  1587216309         7  12.35   \n",
       "2          2     acapulco           5      MX  1587215869        64  16.86   \n",
       "3          3      acevedo          91      CO  1587216293        64   1.84   \n",
       "4          4  agua branca          97      BR  1587216339        86  -5.89   \n",
       "..       ...          ...         ...     ...         ...       ...    ...   \n",
       "550      550  yerbogachen           7      RU  1587216166        87  61.28   \n",
       "551      551       yulara           7      AU  1587216181        29 -25.24   \n",
       "552      552        yumen           6      CN  1587216295        15  40.28   \n",
       "553      553     zhaotong          39      CN  1587216301        39  27.32   \n",
       "554      554     zhigansk           0      RU  1587215972        92  66.77   \n",
       "\n",
       "        Lng  Max Temp  Wind Speed  \n",
       "0     37.18     78.26        1.28  \n",
       "1     29.25     98.83        6.49  \n",
       "2    -99.89     75.20        2.24  \n",
       "3    -75.86     64.71        2.15  \n",
       "4    -42.64     76.75        4.52  \n",
       "..      ...       ...         ...  \n",
       "550  108.01     18.16        7.23  \n",
       "551  130.99     78.80        8.05  \n",
       "552   97.20     62.29        8.30  \n",
       "553  103.72     61.29        4.23  \n",
       "554  123.37      7.14       13.06  \n",
       "\n",
       "[555 rows x 10 columns]"
      ]
     },
     "execution_count": 18,
     "metadata": {},
     "output_type": "execute_result"
    }
   ],
   "source": [
    "cities_df = Load_City_Data()\n",
    "cities_df\n"
   ]
  },
  {
   "cell_type": "markdown",
   "metadata": {},
   "source": [
    "### Humidity Heatmap\n",
    "* Configure gmaps.\n",
    "* Use the Lat and Lng as locations and Humidity as the weight.\n",
    "* Add Heatmap layer to map."
   ]
  },
  {
   "cell_type": "code",
   "execution_count": 19,
   "metadata": {},
   "outputs": [
    {
     "data": {
      "application/vnd.jupyter.widget-view+json": {
       "model_id": "83d26d7f30e44ee1a46ce03c046a8301",
       "version_major": 2,
       "version_minor": 0
      },
      "text/plain": [
       "Figure(layout=FigureLayout(height='420px'))"
      ]
     },
     "metadata": {},
     "output_type": "display_data"
    }
   ],
   "source": [
    "gmaps.configure(api_key=g_key)\n",
    "\n",
    "cities_complete = cities_df.dropna()\n",
    "locations = cities_complete[[\"Lat\", \"Lng\"]].astype(float)\n",
    "humidity = cities_complete[\"Humidity\"].astype(float)\n",
    "\n",
    "fig = gmaps.figure()\n",
    "\n",
    "heat_layer = gmaps.heatmap_layer(locations, weights=humidity, \n",
    "                                 dissipating=False, max_intensity=100,\n",
    "                                 point_radius = 1)\n",
    "\n",
    "fig.add_layer(heat_layer)\n",
    "\n",
    "fig"
   ]
  },
  {
   "cell_type": "code",
   "execution_count": null,
   "metadata": {},
   "outputs": [],
   "source": [
    "\n"
   ]
  },
  {
   "cell_type": "markdown",
   "metadata": {},
   "source": [
    "### Create new DataFrame fitting weather criteria\n",
    "* Narrow down the cities to fit weather conditions.\n",
    "* Drop any rows will null values."
   ]
  },
  {
   "cell_type": "code",
   "execution_count": 20,
   "metadata": {},
   "outputs": [
    {
     "name": "stdout",
     "output_type": "stream",
     "text": [
      "     City_ID           City  Cloudiness Country        Date  Humidity    Lat  \\\n",
      "14        14  alice springs           0      AU  1587215994        37 -23.70   \n",
      "35        35         avarua           0      CK  1587216105        78 -21.21   \n",
      "96        96      catamarca           0      AR  1587216336        38 -28.47   \n",
      "191      191         hlotse           0      LS  1587216330        15 -28.87   \n",
      "323      323   monte patria           0      CL  1587216347        36 -30.69   \n",
      "\n",
      "        Lng  Max Temp  Wind Speed  \n",
      "14   133.88     71.60        6.93  \n",
      "35  -159.78     77.00        5.82  \n",
      "96   -65.79     72.81        5.41  \n",
      "191   28.05     71.89        4.74  \n",
      "323  -70.95     70.57        1.28  \n"
     ]
    }
   ],
   "source": [
    "ideal_cities = Find_Ideal_Cities(cities_complete)\n"
   ]
  },
  {
   "cell_type": "markdown",
   "metadata": {},
   "source": [
    "### Hotel Map\n",
    "* Store into variable named `hotel_df`.\n",
    "* Add a \"Hotel Name\" column to the DataFrame.\n",
    "* Set parameters to search for hotels with 5000 meters.\n",
    "* Hit the Google Places API for each city's coordinates.\n",
    "* Store the first Hotel result into the DataFrame.\n",
    "* Plot markers on top of the heatmap."
   ]
  },
  {
   "cell_type": "code",
   "execution_count": 21,
   "metadata": {},
   "outputs": [
    {
     "name": "stdout",
     "output_type": "stream",
     "text": [
      "Finding hotel for alice springs\n",
      "Finding hotel for avarua\n",
      "Finding hotel for catamarca\n",
      "Finding hotel for hlotse\n",
      "Finding hotel for monte patria\n",
      "There is not hotel within the city radius of 500 meters\n"
     ]
    }
   ],
   "source": [
    "hotels_df = Find_Motels_For_Cities(ideal_cities)\n"
   ]
  },
  {
   "cell_type": "code",
   "execution_count": 22,
   "metadata": {},
   "outputs": [
    {
     "name": "stdout",
     "output_type": "stream",
     "text": [
      "<class 'pandas.core.frame.DataFrame'>\n"
     ]
    },
    {
     "data": {
      "text/html": [
       "<div>\n",
       "<style scoped>\n",
       "    .dataframe tbody tr th:only-of-type {\n",
       "        vertical-align: middle;\n",
       "    }\n",
       "\n",
       "    .dataframe tbody tr th {\n",
       "        vertical-align: top;\n",
       "    }\n",
       "\n",
       "    .dataframe thead th {\n",
       "        text-align: right;\n",
       "    }\n",
       "</style>\n",
       "<table border=\"1\" class=\"dataframe\">\n",
       "  <thead>\n",
       "    <tr style=\"text-align: right;\">\n",
       "      <th></th>\n",
       "      <th>name</th>\n",
       "      <th>city</th>\n",
       "      <th>country</th>\n",
       "      <th>lat</th>\n",
       "      <th>lng</th>\n",
       "    </tr>\n",
       "  </thead>\n",
       "  <tbody>\n",
       "    <tr>\n",
       "      <th>0</th>\n",
       "      <td>Mercure Alice Springs Resort</td>\n",
       "      <td>Alice Springs</td>\n",
       "      <td>Australia</td>\n",
       "      <td>-23.702999</td>\n",
       "      <td>133.886497</td>\n",
       "    </tr>\n",
       "    <tr>\n",
       "      <th>1</th>\n",
       "      <td>Central Motel</td>\n",
       "      <td>Avarua District</td>\n",
       "      <td>Cook Islands</td>\n",
       "      <td>-21.208484</td>\n",
       "      <td>-159.775227</td>\n",
       "    </tr>\n",
       "    <tr>\n",
       "      <th>2</th>\n",
       "      <td>Hotel Grand Hotel</td>\n",
       "      <td>San Fernando del Valle de Catamarca</td>\n",
       "      <td>Argentina</td>\n",
       "      <td>-28.468715</td>\n",
       "      <td>-65.787278</td>\n",
       "    </tr>\n",
       "    <tr>\n",
       "      <th>3</th>\n",
       "      <td>Bird Haven Guesthouse Leribe Lesotho</td>\n",
       "      <td>Hlotse</td>\n",
       "      <td>Lesotho</td>\n",
       "      <td>-28.868167</td>\n",
       "      <td>28.047926</td>\n",
       "    </tr>\n",
       "  </tbody>\n",
       "</table>\n",
       "</div>"
      ],
      "text/plain": [
       "                                   name                                  city  \\\n",
       "0          Mercure Alice Springs Resort                         Alice Springs   \n",
       "1                         Central Motel                       Avarua District   \n",
       "2                     Hotel Grand Hotel   San Fernando del Valle de Catamarca   \n",
       "3  Bird Haven Guesthouse Leribe Lesotho                                Hlotse   \n",
       "\n",
       "         country        lat         lng  \n",
       "0      Australia -23.702999  133.886497  \n",
       "1   Cook Islands -21.208484 -159.775227  \n",
       "2      Argentina -28.468715  -65.787278  \n",
       "3        Lesotho -28.868167   28.047926  "
      ]
     },
     "execution_count": 22,
     "metadata": {},
     "output_type": "execute_result"
    }
   ],
   "source": [
    "print(type(hotels_df))\n",
    "hotels_df"
   ]
  },
  {
   "cell_type": "code",
   "execution_count": 23,
   "metadata": {},
   "outputs": [],
   "source": [
    "# NOTE: Do not change any of the code in this cell\n",
    "\n",
    "# Using the template add the hotel marks to the heatmap\n",
    "info_box_template = \"\"\"\n",
    "<dl>\n",
    "<dt>Name</dt><dd>{name}</dd>\n",
    "<dt>City</dt><dd>{city}</dd>\n",
    "<dt>Country</dt><dd>{country}</dd>\n",
    "</dl>\n",
    "\"\"\"\n",
    "# Store the DataFrame Row\n",
    "# NOTE: be sure to update with your DataFrame name\n",
    "hotel_info = [info_box_template.format(**row) for index, row in hotels_df.iterrows()]\n",
    "locations = hotels_df[[\"lat\", \"lng\"]]"
   ]
  },
  {
   "cell_type": "code",
   "execution_count": 24,
   "metadata": {},
   "outputs": [],
   "source": [
    "#hotel_info"
   ]
  },
  {
   "cell_type": "code",
   "execution_count": 26,
   "metadata": {},
   "outputs": [
    {
     "data": {
      "application/vnd.jupyter.widget-view+json": {
       "model_id": "dc1f6365bb4e4e278524377a1e16ea3b",
       "version_major": 2,
       "version_minor": 0
      },
      "text/plain": [
       "Figure(layout=FigureLayout(height='420px'))"
      ]
     },
     "metadata": {},
     "output_type": "display_data"
    }
   ],
   "source": [
    "# Add marker layer ontop of heat map\n",
    "\n",
    "\n",
    "marker_layer = gmaps.marker_layer(locations,\n",
    "                             info_box_content=hotel_info)\n",
    "fig = gmaps.figure()\n",
    "fig.add_layer(marker_layer)\n",
    "\n",
    "# Display Map\n",
    "fig"
   ]
  },
  {
   "cell_type": "code",
   "execution_count": null,
   "metadata": {},
   "outputs": [],
   "source": []
  }
 ],
 "metadata": {
  "kernelspec": {
   "display_name": "Python 3",
   "language": "python",
   "name": "python3"
  },
  "language_info": {
   "codemirror_mode": {
    "name": "ipython",
    "version": 3
   },
   "file_extension": ".py",
   "mimetype": "text/x-python",
   "name": "python",
   "nbconvert_exporter": "python",
   "pygments_lexer": "ipython3",
   "version": "3.7.4"
  },
  "latex_envs": {
   "LaTeX_envs_menu_present": true,
   "autoclose": false,
   "autocomplete": true,
   "bibliofile": "biblio.bib",
   "cite_by": "apalike",
   "current_citInitial": 1,
   "eqLabelWithNumbers": true,
   "eqNumInitial": 1,
   "hotkeys": {
    "equation": "Ctrl-E",
    "itemize": "Ctrl-I"
   },
   "labels_anchors": false,
   "latex_user_defs": false,
   "report_style_numbering": false,
   "user_envs_cfg": false
  }
 },
 "nbformat": 4,
 "nbformat_minor": 2
}
